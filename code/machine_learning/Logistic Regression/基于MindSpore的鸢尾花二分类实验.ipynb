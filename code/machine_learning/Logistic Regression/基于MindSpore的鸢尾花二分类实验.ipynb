{
 "cells": [
  {
   "cell_type": "markdown",
   "metadata": {},
   "source": [
    "# 逻辑回归实现鸢尾花二分类\n",
    "\n",
    "本实验主要介绍使用MindSpore在2分类数据集上进行逻辑回归实验，分析自变量和因变量（概率）之间的关系，即求得一个概率函数。"
   ]
  },
  {
   "cell_type": "markdown",
   "metadata": {},
   "source": [
    "## 1、实验目的\n",
    "\n",
    "- 了解逻辑回归的基本概念；\n",
    "- 了解如何使用MindSpore进行逻辑回归实验。"
   ]
  },
  {
   "attachments": {
    "image.png": {
     "image/png": "[encoded data removed]"
    }
   },
   "cell_type": "markdown",
   "metadata": {},
   "source": [
    "## 2、逻辑回归算法原理\n",
    "逻辑回归（Logistic Regression）是机器学习最经典的算法之一，1838年由比利时学者Verhulst首次提出；1920年美国学者Bearl & Reed在研究果蝇的繁殖中发现和使用该函数，并在人口估计和预测中推广使用。与线性回归有很多不同，这两种回归都属于广义线性回归（Generalized Linear Regression）的范畴。但逻辑回归具有如下特点：\n",
    "\n",
    "逻辑回归对自变量分布没有要求；\n",
    "因变量是离散型变量，即分类变量；\n",
    "逻辑回归分析的是因变量取某个值的概率与自变量的关系。\n",
    "\n",
    "逻辑回归的假设函数为：\n",
    "\n",
    "$$h_{\\theta}(X) = g(X\\theta) = \\frac{ 1 }{ 1 + e^{-X\\theta} }$$\n",
    "\n",
    "式中$X$为样本输入，$h_{\\theta}(X)$为模型的输出，${\\theta}$为需要求解的模型参数。\n",
    "\n",
    "其函数曲线如下：\n",
    "\n",
    "![image.png](attachment:image.png)\n",
    "\n",
    "若假设0.5为临界值，当$h_{\\theta}(X)$>0.5时，即$X$>0时，$y$的取值范围为[0.5,1]；当$h_{\\theta}(X)$<0.5时，即$X$<0时，$y$的取值范围为[0,0.5];由上图可知，模型输出值$h_{\\theta}(X)$在[0,1]之间。因此，从概率的角度分析为：当$h_{\\theta}(X)$越接近于0，某样本属于0类的概率越高；当$h_{\\theta}(X)$越接近于1，某样本属于1类的概率越高；当$h_{\\theta}(X)$越接近于临界值0.5，则无法判断样本类别。"
   ]
  },
  {
   "cell_type": "markdown",
   "metadata": {},
   "source": [
    "## 3、实验环境\n",
    "\n",
    "预备知识：\n",
    "\n",
    "- 熟练使用Python。\n",
    "- 具备一定的机器学习理论知识，如逻辑回归、损失函数、优化器，训练策略等。\n",
    "\n",
    "实验环境：\n",
    "\n",
    "- MindSpore 2.0（MindSpore版本会定期更新，本指导也会定期刷新，与版本配套）；\n",
    "- 本案例支持win_x86和Linux系统，CPU/GPU/Ascend均可运行。\n",
    "- 如果在本地运行此实验，请参考《MindSpore环境搭建实验手册》在本地安装MindSpore。"
   ]
  },
  {
   "cell_type": "markdown",
   "metadata": {},
   "source": [
    "## 4.1、数据处理\n",
    "\n",
    "### 4.1 数据准备\n",
    "#### 下载数据\n",
    "Iris数据集是模式识别最著名的数据集之一。数据集包含3类，每类50个实例，其中每个类都涉及一种鸢尾植物。 第一类与后两类可线性分离，后两类之间不能线性分离，所以本实验取前两类数据，做一个2分类数据集。  \n",
    "  Iris数据集的官网：[Iris Data Set](http://archive.ics.uci.edu/ml/datasets/Iris)。  \n",
    "方式一，从Iris数据集官网下载[iris.data文件](http://archive.ics.uci.edu/ml/machine-learning-databases/iris/iris.data)。  \n",
    "方式二，从华为云OBS中下载[iris.data文件](https://ascend-professional-construction-dataset.obs.cn-north-4.myhuaweicloud.com:443/MachineLearning/iris.zip)。\n",
    "\n",
    "每个样本含有4个数值属性和一个类别属性：\n",
    "1. sepal length in cm\n",
    "2. sepal width in cm\n",
    "3. petal length in cm\n",
    "4. petal width in cm\n",
    "5. class: \n",
    "    - Iris Setosa\n",
    "    - Iris Versicolour\n",
    "    - Iris Virginica\n",
    "\n",
    "概括统计：\n",
    "\n",
    "                        Min  Max   Mean    SD   Class Correlation\n",
    "    -sepal length:      4.3  7.9   5.84    0.83    0.7826   \n",
    "     -sepal width:      2.0  4.4   3.05    0.43   -0.4194\n",
    "    -petal length:      1.0  6.9   3.76    1.76    0.9490  (high!)\n",
    "    - petal width:      0.1  2.5   1.20    0.76    0.9565  (high!)\n"
   ]
  },
  {
   "cell_type": "code",
   "execution_count": 1,
   "metadata": {},
   "outputs": [
    {
     "name": "stdout",
     "output_type": "stream",
     "text": [
      "Downloading data from https://ascend-professional-construction-dataset.obs.cn-north-4.myhuaweicloud.com:443/MachineLearning/iris.zip (963 bytes)\n",
      "\n",
      "file_sizes: 100%|███████████████████████████████| 963/963 [00:00<00:00, 193kB/s]\n",
      "Extracting zip file...\n",
      "Successfully downloaded / unzipped to ./\n"
     ]
    }
   ],
   "source": [
    "from download import download\n",
    "\n",
    "# 下载Iris数据集\n",
    "url = \"https://ascend-professional-construction-dataset.obs.cn-north-4.myhuaweicloud.com:443/MachineLearning/iris.zip\"  \n",
    "path = download(url, \"./\", kind=\"zip\", replace=True)"
   ]
  },
  {
   "cell_type": "markdown",
   "metadata": {},
   "source": [
    "### 4.2 数据读取与处理\n",
    "#### 导入MindSpore模块和辅助模块\n"
   ]
  },
  {
   "cell_type": "code",
   "execution_count": 1,
   "metadata": {},
   "outputs": [],
   "source": [
    "%matplotlib inline\n",
    "import os\n",
    "import csv\n",
    "import numpy as np\n",
    "\n",
    "import mindspore as ms\n",
    "from mindspore import nn, ops, ms_function, dataset, Tensor\n",
    "from mindspore.train import LossMonitor\n",
    "from mindspore.ops import SigmoidCrossEntropyWithLogits\n",
    "\n",
    "ms.set_context(mode=ms.GRAPH_MODE, device_target=\"CPU\")"
   ]
  },
  {
   "cell_type": "markdown",
   "metadata": {},
   "source": [
    "#### 读取Iris数据集，并查看部分数据"
   ]
  },
  {
   "cell_type": "code",
   "execution_count": 2,
   "metadata": {
    "scrolled": true
   },
   "outputs": [
    {
     "name": "stdout",
     "output_type": "stream",
     "text": [
      "[['5.0', '3.5', '1.3', '0.3', 'Iris-setosa'], ['4.5', '2.3', '1.3', '0.3', 'Iris-setosa'], ['4.4', '3.2', '1.3', '0.2', 'Iris-setosa'], ['5.0', '3.5', '1.6', '0.6', 'Iris-setosa'], ['5.1', '3.8', '1.9', '0.4', 'Iris-setosa'], ['4.8', '3.0', '1.4', '0.3', 'Iris-setosa'], ['5.1', '3.8', '1.6', '0.2', 'Iris-setosa'], ['4.6', '3.2', '1.4', '0.2', 'Iris-setosa'], ['5.3', '3.7', '1.5', '0.2', 'Iris-setosa'], ['5.0', '3.3', '1.4', '0.2', 'Iris-setosa'], ['7.0', '3.2', '4.7', '1.4', 'Iris-versicolor'], ['6.4', '3.2', '4.5', '1.5', 'Iris-versicolor'], ['6.9', '3.1', '4.9', '1.5', 'Iris-versicolor'], ['5.5', '2.3', '4.0', '1.3', 'Iris-versicolor'], ['6.5', '2.8', '4.6', '1.5', 'Iris-versicolor'], ['5.7', '2.8', '4.5', '1.3', 'Iris-versicolor'], ['6.3', '3.3', '4.7', '1.6', 'Iris-versicolor'], ['4.9', '2.4', '3.3', '1.0', 'Iris-versicolor'], ['6.6', '2.9', '4.6', '1.3', 'Iris-versicolor'], ['5.2', '2.7', '3.9', '1.4', 'Iris-versicolor']]\n"
     ]
    }
   ],
   "source": [
    "with open('iris.data') as csv_file:\n",
    "    data = list(csv.reader(csv_file, delimiter=','))\n",
    "print(data[40:60])"
   ]
  },
  {
   "cell_type": "markdown",
   "metadata": {},
   "source": [
    "#### 抽取样本\n",
    "取前两类样本（共100条），将数据集的4个属性作为自变量X。将数据集的2个类别映射为{0, 1}，作为因变量Y。\n"
   ]
  },
  {
   "cell_type": "code",
   "execution_count": 3,
   "metadata": {},
   "outputs": [],
   "source": [
    "label_map = {\n",
    "    'Iris-setosa': 0,\n",
    "    'Iris-versicolor': 1,\n",
    "}\n",
    "\n",
    "X = np.array([[float(x) for x in s[:-1]] for s in data[:100]], np.float32)\n",
    "Y = np.array([[label_map[s[-1]]] for s in data[:100]], np.float32)"
   ]
  },
  {
   "cell_type": "markdown",
   "metadata": {},
   "source": [
    "#### 样本可视化\n",
    "取样本的前两个属性进行2维可视化，可以看到在前两个属性上两类样本是线性可分的。\n"
   ]
  },
  {
   "cell_type": "code",
   "execution_count": 4,
   "metadata": {},
   "outputs": [
    {
     "data": {
      "text/plain": [
       "<matplotlib.legend.Legend at 0x21a388f2d00>"
      ]
     },
     "execution_count": 4,
     "metadata": {},
     "output_type": "execute_result"
    },
    {
     "data": {
      "image/png": "[encoded data removed]",
      "text/plain": [
       "<Figure size 640x480 with 1 Axes>"
      ]
     },
     "metadata": {},
     "output_type": "display_data"
    }
   ],
   "source": [
    "from matplotlib import pyplot as plt\n",
    "plt.scatter(X[:50, 0], X[:50, 1], label='Iris-setosa')\n",
    "plt.scatter(X[50:, 0], X[50:, 1], label='Iris-versicolor')\n",
    "plt.xlabel('sepal length')\n",
    "plt.ylabel('sepal width')\n",
    "plt.legend()"
   ]
  },
  {
   "cell_type": "markdown",
   "metadata": {},
   "source": [
    "#### 分割数据集\n",
    "将数据集按8:2划分为训练集和验证集：\n"
   ]
  },
  {
   "cell_type": "code",
   "execution_count": 5,
   "metadata": {},
   "outputs": [],
   "source": [
    "train_idx = np.random.choice(100, 80, replace=False)\n",
    "test_idx = np.array(list(set(range(100)) - set(train_idx)))\n",
    "X_train, Y_train = X[train_idx], Y[train_idx]\n",
    "X_test, Y_test = X[test_idx], Y[test_idx]"
   ]
  },
  {
   "cell_type": "markdown",
   "metadata": {},
   "source": [
    "#### 数据类型转换\n",
    "使用MindSpore的GeneratorDataset接口将numpy.ndarray类型的数据转换为Dataset：\n"
   ]
  },
  {
   "cell_type": "code",
   "execution_count": 6,
   "metadata": {},
   "outputs": [],
   "source": [
    "XY_train = list(zip(X_train, Y_train))\n",
    "ds_train = dataset.GeneratorDataset(XY_train, ['x', 'y'], shuffle=True)\n",
    "ds_train = ds_train.batch(32, drop_remainder=True)"
   ]
  },
  {
   "cell_type": "markdown",
   "metadata": {},
   "source": [
    "## 5、 模型搭建\n",
    "#### 可视化逻辑回归函数\n",
    "\n",
    "逻辑回归常用的联系函数是Sigmoid（S形函数），Sigmoid函数如下图所示，可以将连续值映射到{0, 1}，同时也是单调可微的。"
   ]
  },
  {
   "cell_type": "code",
   "execution_count": 7,
   "metadata": {},
   "outputs": [
    {
     "data": {
      "text/plain": [
       "Text(0, 0.5, 'p')"
      ]
     },
     "execution_count": 7,
     "metadata": {},
     "output_type": "execute_result"
    },
    {
     "data": {
      "image/png": "[encoded data removed]",
      "text/plain": [
       "<Figure size 640x480 with 1 Axes>"
      ]
     },
     "metadata": {},
     "output_type": "display_data"
    }
   ],
   "source": [
    "coor_x = np.arange(-10, 11, dtype=np.float32)\n",
    "coor_y = nn.Sigmoid()(ms.Tensor(coor_x)).asnumpy()\n",
    "plt.plot(coor_x, coor_y)\n",
    "plt.xlabel('x')\n",
    "plt.ylabel('p')"
   ]
  },
  {
   "cell_type": "markdown",
   "metadata": {},
   "source": [
    "####  建模\n",
    "使用MindSpore提供的[`nn.Dense(4, 1)`算子](https://www.mindspore.cn/docs/zh-CN/r2.0.0-alpha/api_python/nn/mindspore.nn.Dense.html?highlight=dense)作为线性部分，其中`(4, 1)`表示每个样本的输入是含4个元素的向量，输出是含1个元素的向量，即$W$是1x4的矩阵。算子会随机初始化权重$W$和偏置$b$。使用[`SigmoidCrossEntropyWithLogits`算子](https://www.mindspore.cn/docs/zh-CN/r2.0.0-alpha/api_python/ops/mindspore.ops.SigmoidCrossEntropyWithLogits.html?highlight=sigmoidcrossentropywithlogits)作为非线性部分：\n",
    "\n",
    "对于每个样本$N_i$，模型的计算方式如下：\n",
    "\n",
    "$$\n",
    "Z_i = W \\cdot X_i + b \\\\\n",
    "P_{i} = sigmoid(Z_{i}) = \\frac{1}{1 + e^{-Z_{i}}} \\\\\n",
    "loss = -\\frac{1}n\\sum_i[Y_{i} * ln(P_{i}) + (1 - Y_{i})ln(1 - P_{i})]\n",
    "$$\n",
    "\n",
    "其中，$X_i$是1D Tensor（含4个元素），$Z_i$是1D Tensor（含1个元素），$Y_i$是真实类别（2个类别{0, 1}中的一个），$P_i$是1D Tensor（含1个元素，表示属于类别1的概率，值域为[0, 1]），$loss$是标量。\n"
   ]
  },
  {
   "cell_type": "code",
   "execution_count": 8,
   "metadata": {},
   "outputs": [],
   "source": [
    "# 自定义Loss\n",
    "class Loss(nn.Cell):\n",
    "    def __init__(self):\n",
    "        super(Loss, self).__init__()\n",
    "        self.sigmoid_cross_entropy_with_logits = SigmoidCrossEntropyWithLogits()\n",
    "    def construct(self, x, y):\n",
    "        loss = self.sigmoid_cross_entropy_with_logits(x, y)\n",
    "        return ops.mean(loss, -1)\n",
    "\n",
    "net = nn.Dense(4, 1)\n",
    "loss = Loss()\n",
    "opt = nn.SGD(net.trainable_params(), learning_rate=0.003)"
   ]
  },
  {
   "cell_type": "markdown",
   "metadata": {},
   "source": [
    "## 6、模型训练\n",
    "使用2分类的Iris数据集对模型进行几代（Epoch）训练"
   ]
  },
  {
   "cell_type": "code",
   "execution_count": 9,
   "metadata": {},
   "outputs": [
    {
     "name": "stdout",
     "output_type": "stream",
     "text": [
      "epoch: 1 step: 2, loss is 0.764372706413269\n",
      "epoch: 2 step: 2, loss is 0.5859724283218384\n",
      "epoch: 3 step: 2, loss is 0.5097594261169434\n",
      "epoch: 4 step: 2, loss is 0.45754045248031616\n",
      "epoch: 5 step: 2, loss is 0.42222684621810913\n"
     ]
    }
   ],
   "source": [
    "model = ms.train.Model(net, loss, opt)\n",
    "model.train(5, ds_train, callbacks=[LossMonitor(per_print_times=ds_train.get_dataset_size())], dataset_sink_mode=False)"
   ]
  },
  {
   "cell_type": "markdown",
   "metadata": {},
   "source": [
    "## 7、模型评估\n",
    "然后计算模型在测试集上精度，测试集上的精度达到了1.0，即逻辑回归模型学会了区分2类鸢尾花。"
   ]
  },
  {
   "cell_type": "code",
   "execution_count": 10,
   "metadata": {},
   "outputs": [
    {
     "name": "stdout",
     "output_type": "stream",
     "text": [
      "Test accuracy is 1.0\n"
     ]
    }
   ],
   "source": [
    "x = model.predict(ms.Tensor(X_test)).asnumpy()\n",
    "pred = np.round(1 / (1 + np.exp(-x)))\n",
    "correct = np.equal(pred, Y_test)\n",
    "acc = np.mean(correct)\n",
    "print('Test accuracy is', acc)"
   ]
  },
  {
   "cell_type": "markdown",
   "metadata": {},
   "source": [
    "## 实验小结\n",
    "本实验使用MindSpore实现了逻辑回归，用来解决2分类问题。在Iris数据集上进行训练后，所得的模型可以很好的表示每个样本类别y和属性x的关系。"
   ]
  },
  {
   "cell_type": "markdown",
   "metadata": {},
   "source": [
    "## 创新设计\n",
    "请使用Softmax函数作为联系函数，对完整的Iris数据集实现多分类任务。\n"
   ]
  }
 ],
 "metadata": {
  "kernelspec": {
   "display_name": "mindspore2_0",
   "language": "python",
   "name": "mindspore2_0"
  },
  "language_info": {
   "codemirror_mode": {
    "name": "ipython",
    "version": 3
   },
   "file_extension": ".py",
   "mimetype": "text/x-python",
   "name": "python",
   "nbconvert_exporter": "python",
   "pygments_lexer": "ipython3",
   "version": "3.8.16"
  }
 },
 "nbformat": 4,
 "nbformat_minor": 4
}
