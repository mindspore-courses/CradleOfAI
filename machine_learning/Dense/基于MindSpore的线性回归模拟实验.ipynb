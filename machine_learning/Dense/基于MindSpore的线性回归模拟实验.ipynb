{
 "cells": [
  {
   "cell_type": "markdown",
   "metadata": {},
   "source": [
    "## 线性回归\n",
    "\n",
    "本实验主要介绍使用MindSpore在模拟数据上进行线性回归实验，分析自变量和因变量之间的线性关系，即求得一个线性函数。\n",
    "\n",
    "## 1、实验目的\n",
    "\n",
    "- 了解线性回归的基本概念和问题模拟；\n",
    "- 了解如何使用MindSpore进行线性回归实验。"
   ]
  },
  {
   "cell_type": "markdown",
   "metadata": {},
   "source": [
    "## 2、简单线性回归模型原理\n",
    "\n",
    "线性回归假设是指预测值可以表示为输入特征的加权和，如下面的式子：\n",
    "\n",
    "$$ \\hat y  = \\sum_{i=1}^{n}{w_{i} * x_{i}} + b$$\n",
    "\n",
    "式中的$n$表示输入特征个数，$i$表示具体的某个特征；$w_{i}$\n",
    "称为对应特征的权重（weight），权重决定了每个特征对预测值的影响。 \n",
    "$b$称为偏置（bias）、偏移量（offset）或截距（intercept）。偏置是指当所有特征都取值为0时，预测值应该为多少。式中$\\hat y$是输入特征的一个仿射变换（affine transformation）。仿射变换的特点是通过加权和对特征进行线性变换（linear transformation）， 并通过偏置项来进行平移（translation）。\n",
    "\n",
    "总之，给定一个数据集，线性回归模型的最终目的是为了寻找模型的一组权重$w$和偏置$b$， 使得模型预测大体符合数据的整体变化趋势。即输出的预测值由输入特征通过线性模型的仿射变换决定，仿射变换由所选权重和偏置确定。"
   ]
  },
  {
   "cell_type": "markdown",
   "metadata": {},
   "source": [
    "## 3、实验环境\n",
    "\n",
    "- MindSpore 2.0（MindSpore版本会定期更新，本指导也会定期刷新，与版本配套）；\n",
    "- 本案例支持win_x86和Linux系统，CPU/GPU/Ascend均可运行。\n",
    "- 如果在本地运行此实验，请参考《MindSpore环境搭建实验手册》在本地安装MindSpore。"
   ]
  },
  {
   "cell_type": "markdown",
   "metadata": {},
   "source": [
    "## 4、数据处理"
   ]
  },
  {
   "cell_type": "markdown",
   "metadata": {},
   "source": [
    "### 4.1、数据准备"
   ]
  },
  {
   "cell_type": "markdown",
   "metadata": {},
   "source": [
    "###### 模块导入：\n",
    "\n",
    "在生成数据之前，导入需要的Python库。\n",
    "\n",
    "目前使用到os库，为方便理解，其他需要的库，我们在具体使用到时再说明。\n",
    "\n",
    "详细的MindSpore的模块说明，可以在MindSpore API页面中搜索查询。\n",
    "\n",
    "可以通过context.set_context来配置运行需要的信息，譬如运行模式、后端信息、硬件等信息。\n",
    "\n",
    "导入context模块，配置运行需要的信息。"
   ]
  },
  {
   "cell_type": "code",
   "execution_count": 1,
   "metadata": {},
   "outputs": [],
   "source": [
    "import os\n",
    "from PIL import Image\n",
    "import numpy as np\n",
    "import mindspore as ms\n",
    "from mindspore import nn, Tensor, ops\n",
    "from mindspore.dataset import transforms, vision, GeneratorDataset\n",
    "\n",
    "ms.set_context(mode=ms.PYNATIVE_MODE, device_target=\"CPU\")      #使用本地CPU算力"
   ]
  },
  {
   "cell_type": "markdown",
   "metadata": {},
   "source": [
    "### 4.2、数据生成与加载\n",
    "根据以下线性函数生成模拟数据，并在其中加入少许扰动（$noise$）。\n",
    "\n",
    "$$y = -5 * x + 0.1 * noise$$"
   ]
  },
  {
   "cell_type": "code",
   "execution_count": 2,
   "metadata": {},
   "outputs": [],
   "source": [
    "# Iterable object as input source\n",
    "class Iterable:\n",
    "    def __init__(self):\n",
    "        self._data = np.arange(-5, 5, 0.3)[:32].reshape((32, 1))\n",
    "        self._label = -5 * self._data +  0.1 * np.random.normal(loc=0.0, scale=20.0, size=self._data.shape)\n",
    "\n",
    "    def __getitem__(self, index):\n",
    "        return self._data[index], self._label[index]\n",
    "\n",
    "    def __len__(self):\n",
    "        return len(self._data)\n",
    "\n",
    "data = Iterable()\n",
    "dataset = GeneratorDataset(source=data, column_names=[\"data\", \"label\"])"
   ]
  },
  {
   "cell_type": "markdown",
   "metadata": {},
   "source": [
    "## 5 模型构建\n",
    "使用MindSpore提供的[`nn.Dense(1, 1)`算子](https://www.mindspore.cn/docs/zh-CN/r2.0.0-alpha/api_python/nn/mindspore.nn.Dense.html?highlight=dense#mindspore.nn.Dense)作为线性模型，其中`(1, 1)`表示线性模型的输入和输出皆是1维，即$w$是1x1的矩阵。算子会随机初始化权重$w$和偏置$b$。\n",
    "\n",
    "$$y = w * x + b$$\n",
    "\n",
    "采用均方差（Mean Squared Error, MSE）作为损失函数。\n",
    "\n",
    "采用随机梯度下降（Stochastic Gradient Descent, SGD）对模型进行优化。"
   ]
  },
  {
   "cell_type": "markdown",
   "metadata": {},
   "source": [
    "###### 定义模型训练函数\n",
    "\n",
    "首先需要实例化回归模型、定义损失函数和优化器。由于需要使用函数式自动微分，需要将神经网络和损失函数的调用封装为一个前向计算函数。完成后，使用value_and_grad接口获得微分函数，用于计算梯度。定义train_step函数，计算梯度并用于优化，返回损失。"
   ]
  },
  {
   "cell_type": "code",
   "execution_count": 3,
   "metadata": {},
   "outputs": [],
   "source": [
    "net = nn.Dense(1, 1)\n",
    "loss_fn = nn.MSELoss()\n",
    "opt = nn.SGD(net.trainable_params(), learning_rate=0.01)\n",
    "def train_loop(model, dataset, loss_fn, optimizer):\n",
    "    # 定义前向传播函数\n",
    "    def forward_fn(data, label):\n",
    "        logits = model(data)\n",
    "        loss = loss_fn(logits, label)\n",
    "        return loss, logits\n",
    "\n",
    "    # 获得梯度函数\n",
    "    grad_fn = ms.value_and_grad(forward_fn, None, optimizer.parameters, has_aux=True)\n",
    "\n",
    "    # 定义one-step训练函数\n",
    "    def train_step(data, label):\n",
    "        (loss, _), grads = grad_fn(data, label)\n",
    "        loss = ops.depend(loss, optimizer(grads))\n",
    "        return loss\n",
    "    # 返回一个epoch中的batch数。\n",
    "    size = dataset.get_dataset_size()\n",
    "    model.set_train()\n",
    "    for batch, (data, label) in enumerate(dataset.create_tuple_iterator()):\n",
    "        loss = train_step(data.astype(ms.float32), label.astype(ms.float32))\n",
    "        if batch % 10 == 0:\n",
    "            loss, current = loss.asnumpy(), batch\n",
    "            print(f\"loss: {loss:>7f}  [{current:>3d}/{size:>3d}]\")"
   ]
  },
  {
   "cell_type": "markdown",
   "metadata": {},
   "source": [
    "## 6、模型训练"
   ]
  },
  {
   "cell_type": "code",
   "execution_count": 4,
   "metadata": {},
   "outputs": [
    {
     "name": "stdout",
     "output_type": "stream",
     "text": [
      "Epoch 1\n",
      "-------------------------------\n",
      "loss: 350.566986  [  0/ 32]\n",
      "loss: 7.315549  [ 10/ 32]\n",
      "loss: 0.498610  [ 20/ 32]\n",
      "loss: 11.054996  [ 30/ 32]\n",
      "Epoch 2\n",
      "-------------------------------\n",
      "loss: 8.573349  [  0/ 32]\n",
      "loss: 0.035086  [ 10/ 32]\n",
      "loss: 0.398700  [ 20/ 32]\n",
      "loss: 15.784817  [ 30/ 32]\n",
      "Epoch 3\n",
      "-------------------------------\n",
      "loss: 10.495986  [  0/ 32]\n",
      "loss: 0.777776  [ 10/ 32]\n",
      "loss: 0.606391  [ 20/ 32]\n",
      "loss: 0.799078  [ 30/ 32]\n",
      "Epoch 4\n",
      "-------------------------------\n",
      "loss: 0.034378  [  0/ 32]\n",
      "loss: 4.324095  [ 10/ 32]\n",
      "loss: 0.648016  [ 20/ 32]\n",
      "loss: 0.007887  [ 30/ 32]\n",
      "Epoch 5\n",
      "-------------------------------\n",
      "loss: 6.131496  [  0/ 32]\n",
      "loss: 0.059824  [ 10/ 32]\n",
      "loss: 4.798116  [ 20/ 32]\n",
      "loss: 4.175615  [ 30/ 32]\n",
      "Epoch 6\n",
      "-------------------------------\n",
      "loss: 0.670109  [  0/ 32]\n",
      "loss: 2.569562  [ 10/ 32]\n",
      "loss: 4.204945  [ 20/ 32]\n",
      "loss: 2.535913  [ 30/ 32]\n",
      "Epoch 7\n",
      "-------------------------------\n",
      "loss: 1.454406  [  0/ 32]\n",
      "loss: 0.038941  [ 10/ 32]\n",
      "loss: 4.181081  [ 20/ 32]\n",
      "loss: 0.876048  [ 30/ 32]\n",
      "Epoch 8\n",
      "-------------------------------\n",
      "loss: 0.244022  [  0/ 32]\n",
      "loss: 0.104863  [ 10/ 32]\n",
      "loss: 0.228484  [ 20/ 32]\n",
      "loss: 1.044448  [ 30/ 32]\n",
      "Epoch 9\n",
      "-------------------------------\n",
      "loss: 0.042730  [  0/ 32]\n",
      "loss: 5.200671  [ 10/ 32]\n",
      "loss: 0.697227  [ 20/ 32]\n",
      "loss: 3.153570  [ 30/ 32]\n",
      "Epoch 10\n",
      "-------------------------------\n",
      "loss: 6.288872  [  0/ 32]\n",
      "loss: 5.688678  [ 10/ 32]\n",
      "loss: 0.112796  [ 20/ 32]\n",
      "loss: 9.215074  [ 30/ 32]\n",
      "Epoch 11\n",
      "-------------------------------\n",
      "loss: 1.211152  [  0/ 32]\n",
      "loss: 1.578151  [ 10/ 32]\n",
      "loss: 0.678230  [ 20/ 32]\n",
      "loss: 0.699212  [ 30/ 32]\n",
      "Epoch 12\n",
      "-------------------------------\n",
      "loss: 0.059312  [  0/ 32]\n",
      "loss: 0.763984  [ 10/ 32]\n",
      "loss: 0.790553  [ 20/ 32]\n",
      "loss: 1.596524  [ 30/ 32]\n",
      "Epoch 13\n",
      "-------------------------------\n",
      "loss: 0.131564  [  0/ 32]\n",
      "loss: 1.522368  [ 10/ 32]\n",
      "loss: 2.036475  [ 20/ 32]\n",
      "loss: 7.186038  [ 30/ 32]\n",
      "Epoch 14\n",
      "-------------------------------\n",
      "loss: 0.661414  [  0/ 32]\n",
      "loss: 0.946439  [ 10/ 32]\n",
      "loss: 2.373407  [ 20/ 32]\n",
      "loss: 14.097498  [ 30/ 32]\n",
      "Epoch 15\n",
      "-------------------------------\n",
      "loss: 0.000185  [  0/ 32]\n",
      "loss: 0.117066  [ 10/ 32]\n",
      "loss: 1.802941  [ 20/ 32]\n",
      "loss: 0.403505  [ 30/ 32]\n",
      "Epoch 16\n",
      "-------------------------------\n",
      "loss: 2.856427  [  0/ 32]\n",
      "loss: 0.327374  [ 10/ 32]\n",
      "loss: 3.347067  [ 20/ 32]\n",
      "loss: 5.622497  [ 30/ 32]\n",
      "Epoch 17\n",
      "-------------------------------\n",
      "loss: 20.618839  [  0/ 32]\n",
      "loss: 0.014934  [ 10/ 32]\n",
      "loss: 4.992739  [ 20/ 32]\n",
      "loss: 5.120826  [ 30/ 32]\n",
      "Epoch 18\n",
      "-------------------------------\n",
      "loss: 6.963943  [  0/ 32]\n",
      "loss: 0.415349  [ 10/ 32]\n",
      "loss: 0.022366  [ 20/ 32]\n",
      "loss: 0.814594  [ 30/ 32]\n",
      "Epoch 19\n",
      "-------------------------------\n",
      "loss: 0.063262  [  0/ 32]\n",
      "loss: 0.087495  [ 10/ 32]\n",
      "loss: 1.553415  [ 20/ 32]\n",
      "loss: 9.107010  [ 30/ 32]\n",
      "Epoch 20\n",
      "-------------------------------\n",
      "loss: 0.672703  [  0/ 32]\n",
      "loss: 2.693569  [ 10/ 32]\n",
      "loss: 40.722668  [ 20/ 32]\n",
      "loss: 5.521825  [ 30/ 32]\n",
      "Done!\n"
     ]
    }
   ],
   "source": [
    "epochs = 20\n",
    "batch_size = 1\n",
    "for t in range(epochs):\n",
    "    print(f\"Epoch {t+1}\\n-------------------------------\")\n",
    "    train_loop(net, dataset, loss_fn, opt)\n",
    "print(\"Done!\")"
   ]
  },
  {
   "cell_type": "markdown",
   "metadata": {},
   "source": [
    "## 7、模型预测"
   ]
  },
  {
   "cell_type": "markdown",
   "metadata": {},
   "source": [
    "###### 查看模型参数\n",
    "\n",
    "可以查看参数的名称、维度、数据类型、数值以及是否求导（当requires_grad=True时，参数需要求导，进行反向传播）。"
   ]
  },
  {
   "cell_type": "code",
   "execution_count": 5,
   "metadata": {},
   "outputs": [
    {
     "data": {
      "text/plain": [
       "[Parameter (name=weight, shape=(1, 1), dtype=Float32, requires_grad=True),\n",
       " Parameter (name=bias, shape=(1,), dtype=Float32, requires_grad=True)]"
      ]
     },
     "execution_count": 5,
     "metadata": {},
     "output_type": "execute_result"
    }
   ],
   "source": [
    "net.trainable_params()"
   ]
  },
  {
   "cell_type": "code",
   "execution_count": 6,
   "metadata": {},
   "outputs": [
    {
     "data": {
      "text/plain": [
       "Parameter (name=weight, shape=(1, 1), dtype=Float32, requires_grad=True)"
      ]
     },
     "execution_count": 6,
     "metadata": {},
     "output_type": "execute_result"
    }
   ],
   "source": [
    "net.trainable_params()[0]"
   ]
  },
  {
   "cell_type": "code",
   "execution_count": 7,
   "metadata": {},
   "outputs": [
    {
     "data": {
      "text/plain": [
       "array([[-4.746372]], dtype=float32)"
      ]
     },
     "execution_count": 7,
     "metadata": {},
     "output_type": "execute_result"
    }
   ],
   "source": [
    "net.trainable_params()[0].asnumpy()"
   ]
  },
  {
   "cell_type": "markdown",
   "metadata": {},
   "source": [
    "###### 模型预测\n",
    "\n",
    "训练一定的代数后，得到的模型已经十分接近真实的线性函数了。"
   ]
  },
  {
   "cell_type": "code",
   "execution_count": 8,
   "metadata": {},
   "outputs": [
    {
     "name": "stdout",
     "output_type": "stream",
     "text": [
      "The true linear function is y = -5 * x + 0.1\n",
      "The trained linear model is y = -4.746372222900391 * x + 0.30420374870300293\n",
      "x = -10, predicted y = [[47.767925]]\n",
      "x = -5, predicted y = [[24.036064]]\n",
      "x = 0, predicted y = [[0.30420375]]\n",
      "x = 5, predicted y = [[-23.427658]]\n",
      "x = 10, predicted y = [[-47.15952]]\n"
     ]
    }
   ],
   "source": [
    "wb = [x.asnumpy() for x in net.trainable_params()]\n",
    "w, b = np.squeeze(wb[0]), np.squeeze(wb[1])\n",
    "print('The true linear function is y = -5 * x + 0.1')\n",
    "print('The trained linear model is y = {0} * x + {1}'.format(w, b))\n",
    "\n",
    "for i in range(-10, 11, 5):\n",
    "    print('x = {0}, predicted y = {1}'.format(i, net(ms.Tensor([[i]], ms.float32))))"
   ]
  },
  {
   "cell_type": "markdown",
   "metadata": {},
   "source": [
    "###### 预测结果可视化\n",
    "\n",
    "模拟的样本数据、真实的线性函数和训练得到的线性模型如下图所示："
   ]
  },
  {
   "cell_type": "code",
   "execution_count": 9,
   "metadata": {},
   "outputs": [
    {
     "data": {
      "text/plain": [
       "<matplotlib.legend.Legend at 0x24d4cc90d00>"
      ]
     },
     "execution_count": 9,
     "metadata": {},
     "output_type": "execute_result"
    },
    {
     "data": {
      "image/png": "[encoded data removed]",
      "text/plain": [
       "<Figure size 640x480 with 1 Axes>"
      ]
     },
     "metadata": {},
     "output_type": "display_data"
    }
   ],
   "source": [
    "from matplotlib import pyplot as plt\n",
    "%matplotlib inline\n",
    "\n",
    "x = np.arange(-5, 5, 0.3)[:32].reshape((32, 1))\n",
    "y = -5 * x +  0.1 * np.random.normal(loc=0.0, scale=20.0, size=x.shape)\n",
    "plt.scatter(x, y, label='Samples')\n",
    "plt.plot(x, w * x +  b, c='r', label='Trained model')\n",
    "plt.plot(x, -5 * x + 0.1, c='b', label='True function')\n",
    "plt.legend()"
   ]
  }
 ],
 "metadata": {
  "kernelspec": {
   "display_name": "mindspore2_0",
   "language": "python",
   "name": "mindspore2_0"
  },
  "language_info": {
   "codemirror_mode": {
    "name": "ipython",
    "version": 3
   },
   "file_extension": ".py",
   "mimetype": "text/x-python",
   "name": "python",
   "nbconvert_exporter": "python",
   "pygments_lexer": "ipython3",
   "version": "3.8.16"
  }
 },
 "nbformat": 4,
 "nbformat_minor": 4
}
